{
 "cells": [
  {
   "cell_type": "markdown",
   "metadata": {
    "colab_type": "text",
    "id": "Qp6Jzx49W_ta"
   },
   "source": [
    "# Prediction of customers' travel pattern\n",
    "\n",
    "- Tune ML models\n",
    "- Using Logistic Clf"
   ]
  },
  {
   "cell_type": "markdown",
   "metadata": {},
   "source": [
    "# 1)-Importing key modules"
   ]
  },
  {
   "cell_type": "code",
   "execution_count": 1,
   "metadata": {
    "colab": {},
    "colab_type": "code",
    "id": "4V11g1goXDyF"
   },
   "outputs": [],
   "source": [
    "import warnings\n",
    "warnings.filterwarnings('ignore')\n",
    "# For processing\n",
    "import matplotlib.pyplot as plt\n",
    "import pandas as pd\n",
    "import numpy as np\n",
    "import scipy\n",
    "from collections import Counter\n",
    "import datetime as dt\n",
    "from datetime import datetime\n",
    "import seaborn as sns\n",
    "from pprint import pprint\n",
    "%matplotlib inline\n"
   ]
  },
  {
   "cell_type": "code",
   "execution_count": 2,
   "metadata": {},
   "outputs": [
    {
     "name": "stderr",
     "output_type": "stream",
     "text": [
      "Using TensorFlow backend.\n"
     ]
    }
   ],
   "source": [
    "# For modeling building and tunning\n",
    "from sklearn.model_selection import train_test_split\n",
    "from sklearn.preprocessing import StandardScaler\n",
    "from sklearn.model_selection import StratifiedKFold\n",
    "from sklearn.ensemble import RandomForestClassifier\n",
    "from sklearn.linear_model import LogisticRegression\n",
    "from sklearn.model_selection import GridSearchCV, StratifiedKFold\n",
    "from imblearn.under_sampling import NearMiss"
   ]
  },
  {
   "cell_type": "code",
   "execution_count": 3,
   "metadata": {},
   "outputs": [],
   "source": [
    "# for evaluation\n",
    "\n",
    "from sklearn.metrics import f1_score\n",
    "from sklearn.metrics import accuracy_score\n",
    "from sklearn.metrics import roc_auc_score\n",
    "from sklearn.metrics import recall_score\n",
    "from sklearn.metrics import classification_report\n",
    "from sklearn.metrics import confusion_matrix\n",
    "from sklearn.metrics import roc_curve\n",
    "from sklearn.metrics import auc"
   ]
  },
  {
   "cell_type": "code",
   "execution_count": 4,
   "metadata": {},
   "outputs": [],
   "source": [
    "from datetime import date\n",
    "import datetime as dt"
   ]
  },
  {
   "cell_type": "markdown",
   "metadata": {},
   "source": [
    "# 2)-Loading data"
   ]
  },
  {
   "cell_type": "code",
   "execution_count": 5,
   "metadata": {},
   "outputs": [
    {
     "data": {
      "text/plain": [
       "(45805, 515)"
      ]
     },
     "execution_count": 5,
     "metadata": {},
     "output_type": "execute_result"
    }
   ],
   "source": [
    "df = pd.read_csv('selected_feature.csv')\n",
    "df.shape"
   ]
  },
  {
   "cell_type": "code",
   "execution_count": 6,
   "metadata": {},
   "outputs": [
    {
     "data": {
      "text/html": [
       "<div>\n",
       "<style scoped>\n",
       "    .dataframe tbody tr th:only-of-type {\n",
       "        vertical-align: middle;\n",
       "    }\n",
       "\n",
       "    .dataframe tbody tr th {\n",
       "        vertical-align: top;\n",
       "    }\n",
       "\n",
       "    .dataframe thead th {\n",
       "        text-align: right;\n",
       "    }\n",
       "</style>\n",
       "<table border=\"1\" class=\"dataframe\">\n",
       "  <thead>\n",
       "    <tr style=\"text-align: right;\">\n",
       "      <th></th>\n",
       "      <th>event_type</th>\n",
       "      <th>distance</th>\n",
       "      <th>num_family</th>\n",
       "      <th>len_jour</th>\n",
       "      <th>ts_hour</th>\n",
       "      <th>origin_ADB</th>\n",
       "      <th>origin_ADL</th>\n",
       "      <th>origin_AER</th>\n",
       "      <th>origin_AGP</th>\n",
       "      <th>origin_AKL</th>\n",
       "      <th>...</th>\n",
       "      <th>dest_YEG</th>\n",
       "      <th>dest_YMQ</th>\n",
       "      <th>dest_YOW</th>\n",
       "      <th>dest_YTO</th>\n",
       "      <th>dest_YUL</th>\n",
       "      <th>dest_YVR</th>\n",
       "      <th>dest_YWG</th>\n",
       "      <th>dest_YYC</th>\n",
       "      <th>dest_YYZ</th>\n",
       "      <th>dest_ZRH</th>\n",
       "    </tr>\n",
       "  </thead>\n",
       "  <tbody>\n",
       "    <tr>\n",
       "      <th>0</th>\n",
       "      <td>0</td>\n",
       "      <td>5834.154716</td>\n",
       "      <td>7</td>\n",
       "      <td>6.0</td>\n",
       "      <td>11</td>\n",
       "      <td>0</td>\n",
       "      <td>0</td>\n",
       "      <td>0</td>\n",
       "      <td>0</td>\n",
       "      <td>0</td>\n",
       "      <td>...</td>\n",
       "      <td>0</td>\n",
       "      <td>0</td>\n",
       "      <td>0</td>\n",
       "      <td>0</td>\n",
       "      <td>0</td>\n",
       "      <td>0</td>\n",
       "      <td>0</td>\n",
       "      <td>0</td>\n",
       "      <td>0</td>\n",
       "      <td>0</td>\n",
       "    </tr>\n",
       "    <tr>\n",
       "      <th>1</th>\n",
       "      <td>1</td>\n",
       "      <td>6525.926149</td>\n",
       "      <td>4</td>\n",
       "      <td>21.0</td>\n",
       "      <td>20</td>\n",
       "      <td>0</td>\n",
       "      <td>0</td>\n",
       "      <td>0</td>\n",
       "      <td>0</td>\n",
       "      <td>0</td>\n",
       "      <td>...</td>\n",
       "      <td>0</td>\n",
       "      <td>0</td>\n",
       "      <td>0</td>\n",
       "      <td>0</td>\n",
       "      <td>0</td>\n",
       "      <td>0</td>\n",
       "      <td>0</td>\n",
       "      <td>0</td>\n",
       "      <td>0</td>\n",
       "      <td>0</td>\n",
       "    </tr>\n",
       "    <tr>\n",
       "      <th>2</th>\n",
       "      <td>1</td>\n",
       "      <td>469.781624</td>\n",
       "      <td>2</td>\n",
       "      <td>3.0</td>\n",
       "      <td>23</td>\n",
       "      <td>0</td>\n",
       "      <td>0</td>\n",
       "      <td>0</td>\n",
       "      <td>0</td>\n",
       "      <td>0</td>\n",
       "      <td>...</td>\n",
       "      <td>0</td>\n",
       "      <td>0</td>\n",
       "      <td>0</td>\n",
       "      <td>0</td>\n",
       "      <td>0</td>\n",
       "      <td>0</td>\n",
       "      <td>0</td>\n",
       "      <td>0</td>\n",
       "      <td>0</td>\n",
       "      <td>0</td>\n",
       "    </tr>\n",
       "    <tr>\n",
       "      <th>3</th>\n",
       "      <td>1</td>\n",
       "      <td>1498.817537</td>\n",
       "      <td>1</td>\n",
       "      <td>3.0</td>\n",
       "      <td>15</td>\n",
       "      <td>0</td>\n",
       "      <td>0</td>\n",
       "      <td>0</td>\n",
       "      <td>0</td>\n",
       "      <td>0</td>\n",
       "      <td>...</td>\n",
       "      <td>0</td>\n",
       "      <td>0</td>\n",
       "      <td>0</td>\n",
       "      <td>0</td>\n",
       "      <td>0</td>\n",
       "      <td>0</td>\n",
       "      <td>0</td>\n",
       "      <td>0</td>\n",
       "      <td>0</td>\n",
       "      <td>0</td>\n",
       "    </tr>\n",
       "    <tr>\n",
       "      <th>4</th>\n",
       "      <td>1</td>\n",
       "      <td>2921.339028</td>\n",
       "      <td>4</td>\n",
       "      <td>6.0</td>\n",
       "      <td>22</td>\n",
       "      <td>0</td>\n",
       "      <td>0</td>\n",
       "      <td>0</td>\n",
       "      <td>0</td>\n",
       "      <td>0</td>\n",
       "      <td>...</td>\n",
       "      <td>0</td>\n",
       "      <td>0</td>\n",
       "      <td>0</td>\n",
       "      <td>0</td>\n",
       "      <td>0</td>\n",
       "      <td>0</td>\n",
       "      <td>0</td>\n",
       "      <td>0</td>\n",
       "      <td>0</td>\n",
       "      <td>0</td>\n",
       "    </tr>\n",
       "  </tbody>\n",
       "</table>\n",
       "<p>5 rows × 515 columns</p>\n",
       "</div>"
      ],
      "text/plain": [
       "   event_type     distance  num_family  len_jour  ts_hour  origin_ADB  \\\n",
       "0           0  5834.154716           7       6.0       11           0   \n",
       "1           1  6525.926149           4      21.0       20           0   \n",
       "2           1   469.781624           2       3.0       23           0   \n",
       "3           1  1498.817537           1       3.0       15           0   \n",
       "4           1  2921.339028           4       6.0       22           0   \n",
       "\n",
       "   origin_ADL  origin_AER  origin_AGP  origin_AKL  ...  dest_YEG  dest_YMQ  \\\n",
       "0           0           0           0           0  ...         0         0   \n",
       "1           0           0           0           0  ...         0         0   \n",
       "2           0           0           0           0  ...         0         0   \n",
       "3           0           0           0           0  ...         0         0   \n",
       "4           0           0           0           0  ...         0         0   \n",
       "\n",
       "   dest_YOW  dest_YTO  dest_YUL  dest_YVR  dest_YWG  dest_YYC  dest_YYZ  \\\n",
       "0         0         0         0         0         0         0         0   \n",
       "1         0         0         0         0         0         0         0   \n",
       "2         0         0         0         0         0         0         0   \n",
       "3         0         0         0         0         0         0         0   \n",
       "4         0         0         0         0         0         0         0   \n",
       "\n",
       "   dest_ZRH  \n",
       "0         0  \n",
       "1         0  \n",
       "2         0  \n",
       "3         0  \n",
       "4         0  \n",
       "\n",
       "[5 rows x 515 columns]"
      ]
     },
     "execution_count": 6,
     "metadata": {},
     "output_type": "execute_result"
    }
   ],
   "source": [
    "df.head()"
   ]
  },
  {
   "cell_type": "code",
   "execution_count": 7,
   "metadata": {},
   "outputs": [],
   "source": [
    "df_model=df.copy()"
   ]
  },
  {
   "cell_type": "code",
   "execution_count": 8,
   "metadata": {},
   "outputs": [],
   "source": [
    "y=df_model[\"event_type\"]\n",
    "features=df_model.drop(['event_type'], axis=1)\n",
    "X = StandardScaler().fit_transform(features)"
   ]
  },
  {
   "cell_type": "code",
   "execution_count": 9,
   "metadata": {},
   "outputs": [],
   "source": [
    "nm = NearMiss()\n",
    "X_under,y_under=nm.fit_sample(X,y)"
   ]
  },
  {
   "cell_type": "markdown",
   "metadata": {},
   "source": [
    "# 3.GridSearchCV using Log Classifier Model"
   ]
  },
  {
   "cell_type": "code",
   "execution_count": 10,
   "metadata": {},
   "outputs": [],
   "source": [
    "lr = LogisticRegression(random_state=5, class_weight='balanced',penalty='l2')"
   ]
  },
  {
   "cell_type": "code",
   "execution_count": 11,
   "metadata": {},
   "outputs": [],
   "source": [
    "dual=[True,False]\n",
    "max_iter=[100,110,120,130,140]\n",
    "C = [1.0,1.5,2.0,2.5]\n",
    "param_grid = dict(dual=dual,max_iter=max_iter,C=C)"
   ]
  },
  {
   "cell_type": "code",
   "execution_count": 12,
   "metadata": {},
   "outputs": [],
   "source": [
    "skf = StratifiedKFold(n_splits=5, shuffle=True, random_state=5)"
   ]
  },
  {
   "cell_type": "code",
   "execution_count": 13,
   "metadata": {},
   "outputs": [
    {
     "data": {
      "text/plain": [
       "LogisticRegression(C=1.5, class_weight='balanced', dual=False,\n",
       "                   fit_intercept=True, intercept_scaling=1, l1_ratio=None,\n",
       "                   max_iter=140, multi_class='auto', n_jobs=None, penalty='l2',\n",
       "                   random_state=5, solver='lbfgs', tol=0.0001, verbose=0,\n",
       "                   warm_start=False)"
      ]
     },
     "execution_count": 13,
     "metadata": {},
     "output_type": "execute_result"
    }
   ],
   "source": [
    "grid_search = GridSearchCV(lr,param_grid, n_jobs=-1, scoring='precision', cv=skf)\n",
    "grid_search = grid_search.fit(X, y)\n",
    "grid_search.best_estimator_"
   ]
  },
  {
   "cell_type": "code",
   "execution_count": 14,
   "metadata": {},
   "outputs": [
    {
     "data": {
      "text/plain": [
       "0.05385127794469115"
      ]
     },
     "execution_count": 14,
     "metadata": {},
     "output_type": "execute_result"
    }
   ],
   "source": [
    "grid_search.best_score_"
   ]
  },
  {
   "cell_type": "code",
   "execution_count": 15,
   "metadata": {},
   "outputs": [
    {
     "name": "stdout",
     "output_type": "stream",
     "text": [
      "tuned hpyerparameters :(best parameters)  {'C': 1.5, 'dual': False, 'max_iter': 140}\n"
     ]
    }
   ],
   "source": [
    "print(\"tuned hpyerparameters :(best parameters) \",grid_search.best_params_)"
   ]
  },
  {
   "cell_type": "code",
   "execution_count": 16,
   "metadata": {},
   "outputs": [
    {
     "data": {
      "text/plain": [
       "LogisticRegression(C=1.5, class_weight='balanced', dual=False,\n",
       "                   fit_intercept=True, intercept_scaling=1, l1_ratio=None,\n",
       "                   max_iter=140, multi_class='auto', n_jobs=None, penalty='l2',\n",
       "                   random_state=5, solver='lbfgs', tol=0.0001, verbose=0,\n",
       "                   warm_start=False)"
      ]
     },
     "execution_count": 16,
     "metadata": {},
     "output_type": "execute_result"
    }
   ],
   "source": [
    "grid_search.best_estimator_"
   ]
  },
  {
   "cell_type": "code",
   "execution_count": 17,
   "metadata": {},
   "outputs": [
    {
     "data": {
      "text/plain": [
       "{'mean_fit_time': array([ 1.06514125,  1.08602519,  0.90765939,  0.76415377,  0.77803359,\n",
       "        22.75487032, 23.99804959, 26.78803835, 29.41344523, 27.92558026,\n",
       "         1.75538721,  1.11904912,  1.08852744,  1.0476614 ,  0.95055165,\n",
       "        21.67740321, 23.15861278, 24.42167621, 24.76697979, 21.87006598,\n",
       "         2.30993876,  1.40908246,  1.14324222,  1.07352662,  1.01415639,\n",
       "        21.89063463, 23.37204204, 25.63400159, 27.07986627, 23.09552341,\n",
       "         2.52006125,  1.58214822,  1.29240723,  1.17106776,  1.2299427 ,\n",
       "        21.9899611 , 23.97158046, 25.86118975, 27.13008366, 23.35505438]),\n",
       " 'std_fit_time': array([2.84461883e-02, 3.59483298e-02, 1.53871991e-01, 1.67794269e-02,\n",
       "        1.40685313e-02, 3.04086649e-01, 1.42800815e-01, 1.31792262e+00,\n",
       "        5.18170151e-01, 3.49743011e+00, 3.14349319e-01, 5.51411269e-03,\n",
       "        1.50837093e-02, 1.10741930e-02, 1.22134297e-02, 7.01636716e-01,\n",
       "        6.92568857e-01, 2.07548897e+00, 2.07874422e+00, 4.85278674e+00,\n",
       "        5.97878985e-01, 1.87951871e-01, 2.20824548e-02, 1.92814720e-02,\n",
       "        7.29744006e-03, 4.08341400e-01, 3.86800962e-01, 1.44096680e+00,\n",
       "        1.84104814e+00, 5.72159973e+00, 6.32274147e-01, 4.17858586e-02,\n",
       "        1.03520993e-01, 3.53789625e-02, 2.34818973e-02, 1.00738461e+00,\n",
       "        1.28576480e+00, 2.64277816e+00, 2.74135709e+00, 5.49429296e+00]),\n",
       " 'mean_score_time': array([0.        , 0.        , 0.        , 0.        , 0.        ,\n",
       "        0.06668811, 0.029775  , 0.0801198 , 0.06370497, 0.05441213,\n",
       "        0.        , 0.        , 0.        , 0.        , 0.        ,\n",
       "        0.07061176, 0.04981594, 0.07051263, 0.04915571, 0.05678077,\n",
       "        0.        , 0.        , 0.        , 0.        , 0.        ,\n",
       "        0.0706851 , 0.0351409 , 0.08648505, 0.06152477, 0.04907603,\n",
       "        0.        , 0.        , 0.        , 0.        , 0.        ,\n",
       "        0.0677289 , 0.05953197, 0.09096479, 0.06572399, 0.0284646 ]),\n",
       " 'std_score_time': array([0.        , 0.        , 0.        , 0.        , 0.        ,\n",
       "        0.01246897, 0.00853388, 0.03208866, 0.01303376, 0.01697043,\n",
       "        0.        , 0.        , 0.        , 0.        , 0.        ,\n",
       "        0.00831481, 0.01493017, 0.0085525 , 0.01954807, 0.03039851,\n",
       "        0.        , 0.        , 0.        , 0.        , 0.        ,\n",
       "        0.01326272, 0.00090403, 0.01383779, 0.01007821, 0.02477615,\n",
       "        0.        , 0.        , 0.        , 0.        , 0.        ,\n",
       "        0.01599453, 0.00244262, 0.01210169, 0.01444316, 0.01319284]),\n",
       " 'param_C': masked_array(data=[1.0, 1.0, 1.0, 1.0, 1.0, 1.0, 1.0, 1.0, 1.0, 1.0, 1.5,\n",
       "                    1.5, 1.5, 1.5, 1.5, 1.5, 1.5, 1.5, 1.5, 1.5, 2.0, 2.0,\n",
       "                    2.0, 2.0, 2.0, 2.0, 2.0, 2.0, 2.0, 2.0, 2.5, 2.5, 2.5,\n",
       "                    2.5, 2.5, 2.5, 2.5, 2.5, 2.5, 2.5],\n",
       "              mask=[False, False, False, False, False, False, False, False,\n",
       "                    False, False, False, False, False, False, False, False,\n",
       "                    False, False, False, False, False, False, False, False,\n",
       "                    False, False, False, False, False, False, False, False,\n",
       "                    False, False, False, False, False, False, False, False],\n",
       "        fill_value='?',\n",
       "             dtype=object),\n",
       " 'param_dual': masked_array(data=[True, True, True, True, True, False, False, False,\n",
       "                    False, False, True, True, True, True, True, False,\n",
       "                    False, False, False, False, True, True, True, True,\n",
       "                    True, False, False, False, False, False, True, True,\n",
       "                    True, True, True, False, False, False, False, False],\n",
       "              mask=[False, False, False, False, False, False, False, False,\n",
       "                    False, False, False, False, False, False, False, False,\n",
       "                    False, False, False, False, False, False, False, False,\n",
       "                    False, False, False, False, False, False, False, False,\n",
       "                    False, False, False, False, False, False, False, False],\n",
       "        fill_value='?',\n",
       "             dtype=object),\n",
       " 'param_max_iter': masked_array(data=[100, 110, 120, 130, 140, 100, 110, 120, 130, 140, 100,\n",
       "                    110, 120, 130, 140, 100, 110, 120, 130, 140, 100, 110,\n",
       "                    120, 130, 140, 100, 110, 120, 130, 140, 100, 110, 120,\n",
       "                    130, 140, 100, 110, 120, 130, 140],\n",
       "              mask=[False, False, False, False, False, False, False, False,\n",
       "                    False, False, False, False, False, False, False, False,\n",
       "                    False, False, False, False, False, False, False, False,\n",
       "                    False, False, False, False, False, False, False, False,\n",
       "                    False, False, False, False, False, False, False, False],\n",
       "        fill_value='?',\n",
       "             dtype=object),\n",
       " 'params': [{'C': 1.0, 'dual': True, 'max_iter': 100},\n",
       "  {'C': 1.0, 'dual': True, 'max_iter': 110},\n",
       "  {'C': 1.0, 'dual': True, 'max_iter': 120},\n",
       "  {'C': 1.0, 'dual': True, 'max_iter': 130},\n",
       "  {'C': 1.0, 'dual': True, 'max_iter': 140},\n",
       "  {'C': 1.0, 'dual': False, 'max_iter': 100},\n",
       "  {'C': 1.0, 'dual': False, 'max_iter': 110},\n",
       "  {'C': 1.0, 'dual': False, 'max_iter': 120},\n",
       "  {'C': 1.0, 'dual': False, 'max_iter': 130},\n",
       "  {'C': 1.0, 'dual': False, 'max_iter': 140},\n",
       "  {'C': 1.5, 'dual': True, 'max_iter': 100},\n",
       "  {'C': 1.5, 'dual': True, 'max_iter': 110},\n",
       "  {'C': 1.5, 'dual': True, 'max_iter': 120},\n",
       "  {'C': 1.5, 'dual': True, 'max_iter': 130},\n",
       "  {'C': 1.5, 'dual': True, 'max_iter': 140},\n",
       "  {'C': 1.5, 'dual': False, 'max_iter': 100},\n",
       "  {'C': 1.5, 'dual': False, 'max_iter': 110},\n",
       "  {'C': 1.5, 'dual': False, 'max_iter': 120},\n",
       "  {'C': 1.5, 'dual': False, 'max_iter': 130},\n",
       "  {'C': 1.5, 'dual': False, 'max_iter': 140},\n",
       "  {'C': 2.0, 'dual': True, 'max_iter': 100},\n",
       "  {'C': 2.0, 'dual': True, 'max_iter': 110},\n",
       "  {'C': 2.0, 'dual': True, 'max_iter': 120},\n",
       "  {'C': 2.0, 'dual': True, 'max_iter': 130},\n",
       "  {'C': 2.0, 'dual': True, 'max_iter': 140},\n",
       "  {'C': 2.0, 'dual': False, 'max_iter': 100},\n",
       "  {'C': 2.0, 'dual': False, 'max_iter': 110},\n",
       "  {'C': 2.0, 'dual': False, 'max_iter': 120},\n",
       "  {'C': 2.0, 'dual': False, 'max_iter': 130},\n",
       "  {'C': 2.0, 'dual': False, 'max_iter': 140},\n",
       "  {'C': 2.5, 'dual': True, 'max_iter': 100},\n",
       "  {'C': 2.5, 'dual': True, 'max_iter': 110},\n",
       "  {'C': 2.5, 'dual': True, 'max_iter': 120},\n",
       "  {'C': 2.5, 'dual': True, 'max_iter': 130},\n",
       "  {'C': 2.5, 'dual': True, 'max_iter': 140},\n",
       "  {'C': 2.5, 'dual': False, 'max_iter': 100},\n",
       "  {'C': 2.5, 'dual': False, 'max_iter': 110},\n",
       "  {'C': 2.5, 'dual': False, 'max_iter': 120},\n",
       "  {'C': 2.5, 'dual': False, 'max_iter': 130},\n",
       "  {'C': 2.5, 'dual': False, 'max_iter': 140}],\n",
       " 'split0_test_score': array([       nan,        nan,        nan,        nan,        nan,\n",
       "        0.05485449, 0.05485449, 0.05486862, 0.05484037, 0.05486862,\n",
       "               nan,        nan,        nan,        nan,        nan,\n",
       "        0.05488276, 0.05491106, 0.05491106, 0.05491106, 0.05491106,\n",
       "               nan,        nan,        nan,        nan,        nan,\n",
       "        0.05485449, 0.05485449, 0.05489691, 0.05489691, 0.05491106,\n",
       "               nan,        nan,        nan,        nan,        nan,\n",
       "        0.05491106, 0.05492522, 0.05492522, 0.05491106, 0.05492522]),\n",
       " 'split1_test_score': array([       nan,        nan,        nan,        nan,        nan,\n",
       "        0.05286006, 0.05286006, 0.05284657, 0.05286006, 0.05286006,\n",
       "               nan,        nan,        nan,        nan,        nan,\n",
       "        0.05284657, 0.05287356, 0.05284657, 0.05287356, 0.05287356,\n",
       "               nan,        nan,        nan,        nan,        nan,\n",
       "        0.05288707, 0.05287356, 0.05287356, 0.05286006, 0.05286006,\n",
       "               nan,        nan,        nan,        nan,        nan,\n",
       "        0.05286006, 0.05287356, 0.05287356, 0.05286006, 0.05287356]),\n",
       " 'split2_test_score': array([       nan,        nan,        nan,        nan,        nan,\n",
       "        0.05333333, 0.05331966, 0.0533607 , 0.0533607 , 0.0533607 ,\n",
       "               nan,        nan,        nan,        nan,        nan,\n",
       "        0.0533607 , 0.0533607 , 0.0533607 , 0.0533607 , 0.0533607 ,\n",
       "               nan,        nan,        nan,        nan,        nan,\n",
       "        0.0533607 , 0.0533607 , 0.0533607 , 0.0533607 , 0.0533607 ,\n",
       "               nan,        nan,        nan,        nan,        nan,\n",
       "        0.05337439, 0.05337439, 0.05337439, 0.05337439, 0.05337439]),\n",
       " 'split3_test_score': array([       nan,        nan,        nan,        nan,        nan,\n",
       "        0.05175506, 0.05175506, 0.05176832, 0.05176832, 0.05176832,\n",
       "               nan,        nan,        nan,        nan,        nan,\n",
       "        0.05176832, 0.05176832, 0.05176832, 0.05178159, 0.05179487,\n",
       "               nan,        nan,        nan,        nan,        nan,\n",
       "        0.05176832, 0.05176832, 0.05176832, 0.05176832, 0.05176832,\n",
       "               nan,        nan,        nan,        nan,        nan,\n",
       "        0.05176832, 0.05176832, 0.05176832, 0.05176832, 0.05176832]),\n",
       " 'split4_test_score': array([       nan,        nan,        nan,        nan,        nan,\n",
       "        0.05630165, 0.0563162 , 0.0563162 , 0.0563162 , 0.0563162 ,\n",
       "               nan,        nan,        nan,        nan,        nan,\n",
       "        0.0563162 , 0.0563162 , 0.0563162 , 0.0563162 , 0.0563162 ,\n",
       "               nan,        nan,        nan,        nan,        nan,\n",
       "        0.05625806, 0.05630165, 0.05630165, 0.05630165, 0.05630165,\n",
       "               nan,        nan,        nan,        nan,        nan,\n",
       "        0.05628712, 0.05628712, 0.05630165, 0.05630165, 0.05630165]),\n",
       " 'mean_test_score': array([       nan,        nan,        nan,        nan,        nan,\n",
       "        0.05382092, 0.05382109, 0.05383208, 0.05382913, 0.05383478,\n",
       "               nan,        nan,        nan,        nan,        nan,\n",
       "        0.05383491, 0.05384597, 0.05384057, 0.05384862, 0.05385128,\n",
       "               nan,        nan,        nan,        nan,        nan,\n",
       "        0.05382573, 0.05383175, 0.05384023, 0.05383753, 0.05384036,\n",
       "               nan,        nan,        nan,        nan,        nan,\n",
       "        0.05384019, 0.05384572, 0.05384863, 0.0538431 , 0.05384863]),\n",
       " 'std_test_score': array([       nan,        nan,        nan,        nan,        nan,\n",
       "        0.00159067, 0.00159606, 0.0015936 , 0.0015883 , 0.00159194,\n",
       "               nan,        nan,        nan,        nan,        nan,\n",
       "        0.00159545, 0.00159588, 0.0015992 , 0.00159243, 0.00158898,\n",
       "               nan,        nan,        nan,        nan,        nan,\n",
       "        0.00156875, 0.00158393, 0.00158949, 0.00159114, 0.00159303,\n",
       "               nan,        nan,        nan,        nan,        nan,\n",
       "        0.00158773, 0.00158799, 0.00159246, 0.00159222, 0.00159246]),\n",
       " 'rank_test_score': array([40, 25, 31, 22, 38, 20, 19, 15, 17, 14, 37, 36, 35, 34, 33, 13,  5,\n",
       "         8,  4,  1, 32, 28, 30, 29, 39, 18, 16, 10, 12,  9, 21, 26, 27, 23,\n",
       "        24, 11,  6,  2,  7,  2], dtype=int32)}"
      ]
     },
     "execution_count": 17,
     "metadata": {},
     "output_type": "execute_result"
    }
   ],
   "source": [
    "grid_search.cv_results_"
   ]
  },
  {
   "cell_type": "markdown",
   "metadata": {},
   "source": [
    "# 4)-predict_proba"
   ]
  },
  {
   "cell_type": "code",
   "execution_count": 24,
   "metadata": {},
   "outputs": [
    {
     "data": {
      "text/plain": [
       "array([[0.47582436, 0.52417564],\n",
       "       [0.7366389 , 0.2633611 ],\n",
       "       [0.42185331, 0.57814669],\n",
       "       [0.62896714, 0.37103286],\n",
       "       [0.63085819, 0.36914181],\n",
       "       [0.28081807, 0.71918193],\n",
       "       [0.33328292, 0.66671708],\n",
       "       [0.38498986, 0.61501014],\n",
       "       [0.4870752 , 0.5129248 ],\n",
       "       [0.59663543, 0.40336457]])"
      ]
     },
     "execution_count": 24,
     "metadata": {},
     "output_type": "execute_result"
    }
   ],
   "source": [
    "grid_search.predict_proba(X_test)[0:10, :]"
   ]
  },
  {
   "cell_type": "code",
   "execution_count": 26,
   "metadata": {},
   "outputs": [
    {
     "name": "stdout",
     "output_type": "stream",
     "text": [
      "[0.47582436 0.7366389  0.42185331 0.62896714 0.63085819]\n"
     ]
    }
   ],
   "source": [
    "pred_prob_zero = grid_search.predict_proba(X_test)[:, 0]\n",
    "print(pred_prob_zero[:5])"
   ]
  },
  {
   "cell_type": "code",
   "execution_count": 27,
   "metadata": {},
   "outputs": [
    {
     "data": {
      "text/plain": [
       "Text(0, 0.5, 'Frequency')"
      ]
     },
     "execution_count": 27,
     "metadata": {},
     "output_type": "execute_result"
    },
    {
     "data": {
      "image/png": "[encoded data removed]",
      "text/plain": [
       "<Figure size 432x288 with 1 Axes>"
      ]
     },
     "metadata": {
      "needs_background": "light"
     },
     "output_type": "display_data"
    }
   ],
   "source": [
    "# histogram of predicted probabilities for search activities\n",
    "plt.hist(pred_prob_zero, bins=8)\n",
    "plt.xlim(0, 1)\n",
    "plt.title('Histogram of predicted probabilities')\n",
    "plt.xlabel('Predicted probability for searching activities')\n",
    "plt.ylabel('Frequency')"
   ]
  },
  {
   "cell_type": "code",
   "execution_count": 28,
   "metadata": {},
   "outputs": [
    {
     "name": "stdout",
     "output_type": "stream",
     "text": [
      "[0.52417564 0.2633611  0.57814669 0.37103286 0.36914181]\n"
     ]
    }
   ],
   "source": [
    "pred_prob_cl_one = grid_search.predict_proba(X_test)[:, 1]\n",
    "print(pred_prob_cl_one[:5])"
   ]
  },
  {
   "cell_type": "code",
   "execution_count": 29,
   "metadata": {},
   "outputs": [
    {
     "data": {
      "text/plain": [
       "Text(0, 0.5, 'Frequency')"
      ]
     },
     "execution_count": 29,
     "metadata": {},
     "output_type": "execute_result"
    },
    {
     "data": {
      "image/png": "[encoded data removed]",
      "text/plain": [
       "<Figure size 432x288 with 1 Axes>"
      ]
     },
     "metadata": {
      "needs_background": "light"
     },
     "output_type": "display_data"
    }
   ],
   "source": [
    "# histogram of predicted probabilities for churned customers\n",
    "plt.hist(pred_prob_cl_one, bins=8)\n",
    "plt.xlim(0, 1)\n",
    "plt.title('Histogram of predicted probabilities')\n",
    "plt.xlabel('Predicted probability for booking activities among customers')\n",
    "plt.ylabel('Frequency')"
   ]
  },
  {
   "cell_type": "markdown",
   "metadata": {},
   "source": [
    "These are the probabilities that for booking and search acitivities among customers."
   ]
  },
  {
   "cell_type": "markdown",
   "metadata": {},
   "source": [
    "# 5)-ROC & AUC"
   ]
  },
  {
   "cell_type": "code",
   "execution_count": 30,
   "metadata": {},
   "outputs": [],
   "source": [
    "from sklearn.metrics import roc_curve\n",
    "roc_score=roc_curve(y_test, pred_prob_cl_one)"
   ]
  },
  {
   "cell_type": "code",
   "execution_count": 31,
   "metadata": {},
   "outputs": [
    {
     "data": {
      "image/png": "[encoded data removed]",
      "text/plain": [
       "<Figure size 720x576 with 1 Axes>"
      ]
     },
     "metadata": {
      "needs_background": "light"
     },
     "output_type": "display_data"
    }
   ],
   "source": [
    "from sklearn.metrics import roc_curve\n",
    "fpr, tpr, thres = roc_curve(y_test, pred_prob_cl_one)\n",
    "\n",
    "\n",
    "def _plot_roc_curve(fpr, tpr, thres):\n",
    "    roc = plt.figure(figsize = (10, 8))\n",
    "    plt.plot(fpr, tpr, 'b-', label = 'ROC')\n",
    "    plt.plot([0, 1], [0, 1], '--')\n",
    "    plt.axis([0, 1, 0, 1])\n",
    "    plt.xlabel('False Positive Rate(1 - Specificity)')\n",
    "    plt.ylabel('True Positive Rate(Sensitivity)')\n",
    "    plt.title('ROC Curve')\n",
    "    return roc\n",
    "p1 = _plot_roc_curve(fpr, tpr, thres)"
   ]
  },
  {
   "cell_type": "code",
   "execution_count": 32,
   "metadata": {},
   "outputs": [
    {
     "data": {
      "text/plain": [
       "0.692778276173903"
      ]
     },
     "execution_count": 32,
     "metadata": {},
     "output_type": "execute_result"
    }
   ],
   "source": [
    "from sklearn.metrics import auc\n",
    "auc(fpr, tpr)"
   ]
  },
  {
   "cell_type": "code",
   "execution_count": 33,
   "metadata": {},
   "outputs": [
    {
     "data": {
      "image/png": "[encoded data removed]",
      "text/plain": [
       "<Figure size 720x576 with 1 Axes>"
      ]
     },
     "metadata": {
      "needs_background": "light"
     },
     "output_type": "display_data"
    }
   ],
   "source": [
    "from sklearn.metrics import roc_curve, precision_recall_curve\n",
    "prec, rec, thres = precision_recall_curve(y_test, pred_prob_cl_one)\n",
    "\n",
    "def _plot_prec_rec_curve(prec, rec, thres):\n",
    "    plot_pr = plt.figure(figsize = (10, 8))\n",
    "    plt.plot(thres, prec[:-1], 'b--', label = 'Precision')\n",
    "    plt.plot(thres, rec[:-1], 'g-', label = 'Recall')\n",
    "    plt.xlabel('Threshold')\n",
    "    plt.ylabel('Probability')\n",
    "    plt.title('Precsion vs Recall Curve')\n",
    "    plt.legend()\n",
    "    #return plot_pr(it creates duplicate graph)\n",
    "\n",
    "_plot_prec_rec_curve(prec, rec, thres)"
   ]
  },
  {
   "cell_type": "markdown",
   "metadata": {},
   "source": [
    "Our threshold is almost at 0.5. If we go to lower values we can get better recall values. Higher values will improve precision but, recall will go very low. Model is still not giving best of result. But, this is better tha what we got"
   ]
  },
  {
   "cell_type": "markdown",
   "metadata": {},
   "source": [
    "**END OF NOTEBOOK**"
   ]
  }
 ],
 "metadata": {
  "accelerator": "GPU",
  "colab": {
   "collapsed_sections": [],
   "name": "3.Model.ipynb",
   "provenance": []
  },
  "kernelspec": {
   "display_name": "Python 3.7 (tensorflow)",
   "language": "python",
   "name": "tensorflow"
  },
  "language_info": {
   "codemirror_mode": {
    "name": "ipython",
    "version": 3
   },
   "file_extension": ".py",
   "mimetype": "text/x-python",
   "name": "python",
   "nbconvert_exporter": "python",
   "pygments_lexer": "ipython3",
   "version": "3.7.5"
  }
 },
 "nbformat": 4,
 "nbformat_minor": 1
}

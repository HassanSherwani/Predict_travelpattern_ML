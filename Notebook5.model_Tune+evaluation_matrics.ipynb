{
 "cells": [
  {
   "cell_type": "markdown",
   "metadata": {
    "colab_type": "text",
    "id": "Qp6Jzx49W_ta"
   },
   "source": [
    "# Prediction of customers' travel pattern\n",
    "\n",
    "- Tune ML models\n",
    "- Using Logistic Clf\n",
    "\n",
    "\n",
    "- https://www.scikit-yb.org/en/latest/api/model_selection/importances.html"
   ]
  },
  {
   "cell_type": "markdown",
   "metadata": {},
   "source": [
    "# 1)-Importing key modules"
   ]
  },
  {
   "cell_type": "code",
   "execution_count": 13,
   "metadata": {
    "colab": {},
    "colab_type": "code",
    "id": "4V11g1goXDyF"
   },
   "outputs": [],
   "source": [
    "import warnings\n",
    "warnings.filterwarnings('ignore')\n",
    "# For processing\n",
    "import matplotlib.pyplot as plt\n",
    "import pandas as pd\n",
    "import numpy as np\n",
    "import scipy\n",
    "from collections import Counter\n",
    "import datetime as dt\n",
    "from datetime import datetime\n",
    "import seaborn as sns\n",
    "from pprint import pprint\n",
    "%matplotlib inline\n"
   ]
  },
  {
   "cell_type": "code",
   "execution_count": 14,
   "metadata": {},
   "outputs": [],
   "source": [
    "# For modeling building and tunning\n",
    "from sklearn.model_selection import train_test_split\n",
    "from sklearn.preprocessing import StandardScaler\n",
    "from sklearn.model_selection import StratifiedKFold\n",
    "from sklearn.ensemble import RandomForestClassifier\n",
    "from sklearn.linear_model import LogisticRegression\n",
    "from sklearn.model_selection import GridSearchCV, StratifiedKFold\n",
    "from imblearn.under_sampling import NearMiss"
   ]
  },
  {
   "cell_type": "code",
   "execution_count": 15,
   "metadata": {},
   "outputs": [],
   "source": [
    "# for evaluation\n",
    "\n",
    "from yellowbrick.model_selection import FeatureImportances\n",
    "from sklearn.metrics import f1_score\n",
    "from sklearn.metrics import accuracy_score\n",
    "from sklearn.metrics import roc_auc_score\n",
    "from sklearn.metrics import recall_score\n",
    "from sklearn.metrics import classification_report\n",
    "from sklearn.metrics import confusion_matrix\n",
    "from sklearn.metrics import roc_curve\n",
    "from sklearn.metrics import auc"
   ]
  },
  {
   "cell_type": "code",
   "execution_count": 16,
   "metadata": {},
   "outputs": [],
   "source": [
    "from datetime import date\n",
    "import datetime as dt"
   ]
  },
  {
   "cell_type": "markdown",
   "metadata": {},
   "source": [
    "# 2)-Loading & Processing data"
   ]
  },
  {
   "cell_type": "code",
   "execution_count": 17,
   "metadata": {},
   "outputs": [
    {
     "data": {
      "text/plain": [
       "(45805, 515)"
      ]
     },
     "execution_count": 17,
     "metadata": {},
     "output_type": "execute_result"
    }
   ],
   "source": [
    "df = pd.read_csv('selected_feature.csv')\n",
    "df.shape"
   ]
  },
  {
   "cell_type": "code",
   "execution_count": 18,
   "metadata": {},
   "outputs": [
    {
     "data": {
      "text/html": [
       "<div>\n",
       "<style scoped>\n",
       "    .dataframe tbody tr th:only-of-type {\n",
       "        vertical-align: middle;\n",
       "    }\n",
       "\n",
       "    .dataframe tbody tr th {\n",
       "        vertical-align: top;\n",
       "    }\n",
       "\n",
       "    .dataframe thead th {\n",
       "        text-align: right;\n",
       "    }\n",
       "</style>\n",
       "<table border=\"1\" class=\"dataframe\">\n",
       "  <thead>\n",
       "    <tr style=\"text-align: right;\">\n",
       "      <th></th>\n",
       "      <th>event_type</th>\n",
       "      <th>distance</th>\n",
       "      <th>num_family</th>\n",
       "      <th>len_jour</th>\n",
       "      <th>ts_hour</th>\n",
       "      <th>origin_ADB</th>\n",
       "      <th>origin_ADL</th>\n",
       "      <th>origin_AER</th>\n",
       "      <th>origin_AGP</th>\n",
       "      <th>origin_AKL</th>\n",
       "      <th>...</th>\n",
       "      <th>dest_YEG</th>\n",
       "      <th>dest_YMQ</th>\n",
       "      <th>dest_YOW</th>\n",
       "      <th>dest_YTO</th>\n",
       "      <th>dest_YUL</th>\n",
       "      <th>dest_YVR</th>\n",
       "      <th>dest_YWG</th>\n",
       "      <th>dest_YYC</th>\n",
       "      <th>dest_YYZ</th>\n",
       "      <th>dest_ZRH</th>\n",
       "    </tr>\n",
       "  </thead>\n",
       "  <tbody>\n",
       "    <tr>\n",
       "      <th>0</th>\n",
       "      <td>0</td>\n",
       "      <td>5834.154716</td>\n",
       "      <td>7</td>\n",
       "      <td>6.0</td>\n",
       "      <td>11</td>\n",
       "      <td>0</td>\n",
       "      <td>0</td>\n",
       "      <td>0</td>\n",
       "      <td>0</td>\n",
       "      <td>0</td>\n",
       "      <td>...</td>\n",
       "      <td>0</td>\n",
       "      <td>0</td>\n",
       "      <td>0</td>\n",
       "      <td>0</td>\n",
       "      <td>0</td>\n",
       "      <td>0</td>\n",
       "      <td>0</td>\n",
       "      <td>0</td>\n",
       "      <td>0</td>\n",
       "      <td>0</td>\n",
       "    </tr>\n",
       "    <tr>\n",
       "      <th>1</th>\n",
       "      <td>1</td>\n",
       "      <td>6525.926149</td>\n",
       "      <td>4</td>\n",
       "      <td>21.0</td>\n",
       "      <td>20</td>\n",
       "      <td>0</td>\n",
       "      <td>0</td>\n",
       "      <td>0</td>\n",
       "      <td>0</td>\n",
       "      <td>0</td>\n",
       "      <td>...</td>\n",
       "      <td>0</td>\n",
       "      <td>0</td>\n",
       "      <td>0</td>\n",
       "      <td>0</td>\n",
       "      <td>0</td>\n",
       "      <td>0</td>\n",
       "      <td>0</td>\n",
       "      <td>0</td>\n",
       "      <td>0</td>\n",
       "      <td>0</td>\n",
       "    </tr>\n",
       "    <tr>\n",
       "      <th>2</th>\n",
       "      <td>1</td>\n",
       "      <td>469.781624</td>\n",
       "      <td>2</td>\n",
       "      <td>3.0</td>\n",
       "      <td>23</td>\n",
       "      <td>0</td>\n",
       "      <td>0</td>\n",
       "      <td>0</td>\n",
       "      <td>0</td>\n",
       "      <td>0</td>\n",
       "      <td>...</td>\n",
       "      <td>0</td>\n",
       "      <td>0</td>\n",
       "      <td>0</td>\n",
       "      <td>0</td>\n",
       "      <td>0</td>\n",
       "      <td>0</td>\n",
       "      <td>0</td>\n",
       "      <td>0</td>\n",
       "      <td>0</td>\n",
       "      <td>0</td>\n",
       "    </tr>\n",
       "    <tr>\n",
       "      <th>3</th>\n",
       "      <td>1</td>\n",
       "      <td>1498.817537</td>\n",
       "      <td>1</td>\n",
       "      <td>3.0</td>\n",
       "      <td>15</td>\n",
       "      <td>0</td>\n",
       "      <td>0</td>\n",
       "      <td>0</td>\n",
       "      <td>0</td>\n",
       "      <td>0</td>\n",
       "      <td>...</td>\n",
       "      <td>0</td>\n",
       "      <td>0</td>\n",
       "      <td>0</td>\n",
       "      <td>0</td>\n",
       "      <td>0</td>\n",
       "      <td>0</td>\n",
       "      <td>0</td>\n",
       "      <td>0</td>\n",
       "      <td>0</td>\n",
       "      <td>0</td>\n",
       "    </tr>\n",
       "    <tr>\n",
       "      <th>4</th>\n",
       "      <td>1</td>\n",
       "      <td>2921.339028</td>\n",
       "      <td>4</td>\n",
       "      <td>6.0</td>\n",
       "      <td>22</td>\n",
       "      <td>0</td>\n",
       "      <td>0</td>\n",
       "      <td>0</td>\n",
       "      <td>0</td>\n",
       "      <td>0</td>\n",
       "      <td>...</td>\n",
       "      <td>0</td>\n",
       "      <td>0</td>\n",
       "      <td>0</td>\n",
       "      <td>0</td>\n",
       "      <td>0</td>\n",
       "      <td>0</td>\n",
       "      <td>0</td>\n",
       "      <td>0</td>\n",
       "      <td>0</td>\n",
       "      <td>0</td>\n",
       "    </tr>\n",
       "  </tbody>\n",
       "</table>\n",
       "<p>5 rows × 515 columns</p>\n",
       "</div>"
      ],
      "text/plain": [
       "   event_type     distance  num_family  len_jour  ts_hour  origin_ADB  \\\n",
       "0           0  5834.154716           7       6.0       11           0   \n",
       "1           1  6525.926149           4      21.0       20           0   \n",
       "2           1   469.781624           2       3.0       23           0   \n",
       "3           1  1498.817537           1       3.0       15           0   \n",
       "4           1  2921.339028           4       6.0       22           0   \n",
       "\n",
       "   origin_ADL  origin_AER  origin_AGP  origin_AKL  ...  dest_YEG  dest_YMQ  \\\n",
       "0           0           0           0           0  ...         0         0   \n",
       "1           0           0           0           0  ...         0         0   \n",
       "2           0           0           0           0  ...         0         0   \n",
       "3           0           0           0           0  ...         0         0   \n",
       "4           0           0           0           0  ...         0         0   \n",
       "\n",
       "   dest_YOW  dest_YTO  dest_YUL  dest_YVR  dest_YWG  dest_YYC  dest_YYZ  \\\n",
       "0         0         0         0         0         0         0         0   \n",
       "1         0         0         0         0         0         0         0   \n",
       "2         0         0         0         0         0         0         0   \n",
       "3         0         0         0         0         0         0         0   \n",
       "4         0         0         0         0         0         0         0   \n",
       "\n",
       "   dest_ZRH  \n",
       "0         0  \n",
       "1         0  \n",
       "2         0  \n",
       "3         0  \n",
       "4         0  \n",
       "\n",
       "[5 rows x 515 columns]"
      ]
     },
     "execution_count": 18,
     "metadata": {},
     "output_type": "execute_result"
    }
   ],
   "source": [
    "df.head()"
   ]
  },
  {
   "cell_type": "code",
   "execution_count": 19,
   "metadata": {},
   "outputs": [],
   "source": [
    "df_model=df.copy()"
   ]
  },
  {
   "cell_type": "code",
   "execution_count": 20,
   "metadata": {},
   "outputs": [],
   "source": [
    "y=df_model[\"event_type\"]\n",
    "features=df_model.drop(['event_type'], axis=1)\n",
    "X = StandardScaler().fit_transform(features)\n",
    "X_train, X_test, y_train, y_test = train_test_split(X, y, test_size=0.3, random_state=0)\n",
    "nm = NearMiss()\n",
    "X_under,y_under=nm.fit_sample(X_train,y_train)\n",
    "# Logistic Classifeir\n",
    "logreg = LogisticRegression()\n",
    "logreg.fit(X_under, y_under)\n",
    "predictions_LR = logreg.predict(X_test)"
   ]
  },
  {
   "cell_type": "markdown",
   "metadata": {},
   "source": [
    "# 3)-Evaluation "
   ]
  },
  {
   "cell_type": "code",
   "execution_count": 21,
   "metadata": {},
   "outputs": [
    {
     "name": "stdout",
     "output_type": "stream",
     "text": [
      "Original dataset shape Counter({0: 30780, 1: 1283})\n",
      "Over-sampled dataset shape Counter({0: 1283, 1: 1283})\n"
     ]
    }
   ],
   "source": [
    "from collections import Counter\n",
    "print('Original dataset shape {}'.format(Counter(y_train)))\n",
    "print('Over-sampled dataset shape {}'.format(Counter(y_under)))"
   ]
  },
  {
   "cell_type": "code",
   "execution_count": 22,
   "metadata": {},
   "outputs": [
    {
     "data": {
      "text/plain": [
       "0    13217\n",
       "1      525\n",
       "Name: event_type, dtype: int64"
      ]
     },
     "execution_count": 22,
     "metadata": {},
     "output_type": "execute_result"
    }
   ],
   "source": [
    "y_test.value_counts()"
   ]
  },
  {
   "cell_type": "code",
   "execution_count": 23,
   "metadata": {},
   "outputs": [
    {
     "name": "stdout",
     "output_type": "stream",
     "text": [
      "(13742, 514)\n"
     ]
    }
   ],
   "source": [
    "print(X_test.shape)"
   ]
  },
  {
   "cell_type": "code",
   "execution_count": 24,
   "metadata": {},
   "outputs": [
    {
     "name": "stdout",
     "output_type": "stream",
     "text": [
      "0.22165623635569787\n"
     ]
    }
   ],
   "source": [
    "print(accuracy_score(predictions_LR,y_test))"
   ]
  },
  {
   "cell_type": "code",
   "execution_count": 25,
   "metadata": {},
   "outputs": [
    {
     "name": "stdout",
     "output_type": "stream",
     "text": [
      "              precision    recall  f1-score   support\n",
      "\n",
      "           0       0.20      0.95      0.33      2793\n",
      "           1       0.74      0.04      0.07     10949\n",
      "\n",
      "    accuracy                           0.22     13742\n",
      "   macro avg       0.47      0.49      0.20     13742\n",
      "weighted avg       0.63      0.22      0.12     13742\n",
      "\n"
     ]
    }
   ],
   "source": [
    "print(classification_report(predictions_LR,y_test))"
   ]
  },
  {
   "cell_type": "markdown",
   "metadata": {},
   "source": [
    "So far, I have used classification report to show results and kept \"Precicision\" for main matrics of evaluation. It is time to open bag and let \"cat\" out of it. **Why did I choose precision as matrics of evaluation for this very case?**"
   ]
  },
  {
   "cell_type": "markdown",
   "metadata": {},
   "source": [
    "### 3.1)- Confusion matrix\n",
    "\n",
    "A confusion matrix is a table that is often used to describe the performance of a classification model (or \"classifier\") on a set of test data for which the true values are known.\n",
    "Key matrix elements are:\n",
    "\n",
    "- true positives (TP): These are cases in which we predicted yes (booking events), and actually they do have booked events. \n",
    "- true negatives (TN): We predicted search events from customers,actually they were.\n",
    "- false positives (FP): We predicted booking events from customers, but actually they were search ones. (Also known as a \"Type I error.\")\n",
    "- false negatives (FN): We predicted search events.Those were rather booking event types. (Also known as a \"Type II error.\")"
   ]
  },
  {
   "cell_type": "code",
   "execution_count": 26,
   "metadata": {},
   "outputs": [
    {
     "data": {
      "text/plain": [
       "array([[ 2657,   136],\n",
       "       [10560,   389]])"
      ]
     },
     "execution_count": 26,
     "metadata": {},
     "output_type": "execute_result"
    }
   ],
   "source": [
    "cm = confusion_matrix(predictions_LR,y_test)\n",
    "cm"
   ]
  },
  {
   "cell_type": "code",
   "execution_count": 27,
   "metadata": {},
   "outputs": [],
   "source": [
    "# slice confusion matrix into four pieces\n",
    "TP = cm[1, 1]\n",
    "TN = cm[0, 0]\n",
    "FP = cm[0, 1]\n",
    "FN = cm[1, 0]"
   ]
  },
  {
   "cell_type": "code",
   "execution_count": 28,
   "metadata": {},
   "outputs": [
    {
     "data": {
      "text/plain": [
       "array([[0.20102898, 0.25904762],\n",
       "       [0.79897102, 0.74095238]])"
      ]
     },
     "execution_count": 28,
     "metadata": {},
     "output_type": "execute_result"
    }
   ],
   "source": [
    "P =(cm/cm.sum(axis=0))\n",
    "P"
   ]
  },
  {
   "cell_type": "markdown",
   "metadata": {},
   "source": [
    "We have 65 values where our model predicted loyal customers and they turned out to be staying customers .So good job!\n",
    "\n",
    "We have 31 values where our model predicted non-leaving customers and they were actually churned ones. That's really uncool.\n",
    "\n",
    "**We have 44 values where our model predicted churned customers. Actually those poor guys were loyal customers. Sorry !**\n",
    "\n",
    "**We have 60 values where we predicted leaving customers and they actually were leaving.**\n",
    "\n",
    "This is what matters for us. This is an important information\n",
    "\n"
   ]
  },
  {
   "cell_type": "markdown",
   "metadata": {},
   "source": [
    "**Note**\n",
    "\n",
    "We can imagine that our model does not look very accurate. Still we only made 60 right predictions regarding churned customers successfully.Also, we have made 65 right predictions about loyals ones.\n",
    "We left out 44 churned ones. In real world if data was huge, that won't not really bad. But, we have a smaller dataset. 44 means 22% false positives.That's where accuracy matrics fails.\n",
    "One issue with recall is that our model got very ideal situation where class of churned and loyal customer is almost same.Hence, we got pretty much same number i.e 60 for True positive and 65 True negatives.If classes were imbalanced then sensivity would be better idea.In our case, accuracy better idea.\n",
    "If we tend to focus(as mentioned in excercise) more on our loyal customers than our churned ones then we need to check True positive and False negative results seriously.\n",
    "Note that we are falsely predicting 31 loyal customers i.e 15.5% . An alarming %age even though our data is small yet we cannot be that wrong on our focussed segment\n",
    "Those who are actually loyal to us is our concern and our prediction should get better results there."
   ]
  },
  {
   "cell_type": "markdown",
   "metadata": {},
   "source": [
    "### 3.2)- Precision vs recall"
   ]
  },
  {
   "cell_type": "code",
   "execution_count": null,
   "metadata": {},
   "outputs": [],
   "source": []
  },
  {
   "cell_type": "markdown",
   "metadata": {},
   "source": [
    "### back to classification report and result"
   ]
  },
  {
   "cell_type": "markdown",
   "metadata": {},
   "source": [
    "# 3.GridSearchCV using Log Classifier Model"
   ]
  },
  {
   "cell_type": "code",
   "execution_count": 29,
   "metadata": {},
   "outputs": [],
   "source": [
    "y=df_model[\"event_type\"]\n",
    "features=df_model.drop(['event_type'], axis=1)\n",
    "X = StandardScaler().fit_transform(features)\n",
    "nm = NearMiss()\n",
    "X_under,y_under=nm.fit_sample(X,y)"
   ]
  },
  {
   "cell_type": "code",
   "execution_count": 30,
   "metadata": {},
   "outputs": [],
   "source": [
    "lr = LogisticRegression(random_state=5, class_weight='balanced',penalty='l2')"
   ]
  },
  {
   "cell_type": "code",
   "execution_count": 31,
   "metadata": {},
   "outputs": [],
   "source": [
    "dual=[True,False]\n",
    "max_iter=[100,110,120,130,140]\n",
    "C = [1.0,1.5,2.0,2.5]\n",
    "param_grid = dict(dual=dual,max_iter=max_iter,C=C)"
   ]
  },
  {
   "cell_type": "code",
   "execution_count": 32,
   "metadata": {},
   "outputs": [],
   "source": [
    "skf = StratifiedKFold(n_splits=5, shuffle=True, random_state=5)"
   ]
  },
  {
   "cell_type": "code",
   "execution_count": 33,
   "metadata": {},
   "outputs": [
    {
     "data": {
      "text/plain": [
       "LogisticRegression(C=1.5, class_weight='balanced', dual=False,\n",
       "                   fit_intercept=True, intercept_scaling=1, l1_ratio=None,\n",
       "                   max_iter=140, multi_class='auto', n_jobs=None, penalty='l2',\n",
       "                   random_state=5, solver='lbfgs', tol=0.0001, verbose=0,\n",
       "                   warm_start=False)"
      ]
     },
     "execution_count": 33,
     "metadata": {},
     "output_type": "execute_result"
    }
   ],
   "source": [
    "grid_search = GridSearchCV(lr,param_grid, n_jobs=-1, scoring='precision', cv=skf)\n",
    "grid_search = grid_search.fit(X, y)\n",
    "grid_search.best_estimator_"
   ]
  },
  {
   "cell_type": "code",
   "execution_count": 34,
   "metadata": {},
   "outputs": [
    {
     "data": {
      "text/plain": [
       "0.05385127794469115"
      ]
     },
     "execution_count": 34,
     "metadata": {},
     "output_type": "execute_result"
    }
   ],
   "source": [
    "grid_search.best_score_"
   ]
  },
  {
   "cell_type": "code",
   "execution_count": 35,
   "metadata": {},
   "outputs": [
    {
     "name": "stdout",
     "output_type": "stream",
     "text": [
      "tuned hpyerparameters :(best parameters)  {'C': 1.5, 'dual': False, 'max_iter': 140}\n"
     ]
    }
   ],
   "source": [
    "print(\"tuned hpyerparameters :(best parameters) \",grid_search.best_params_)"
   ]
  },
  {
   "cell_type": "code",
   "execution_count": 36,
   "metadata": {},
   "outputs": [
    {
     "data": {
      "text/plain": [
       "LogisticRegression(C=1.5, class_weight='balanced', dual=False,\n",
       "                   fit_intercept=True, intercept_scaling=1, l1_ratio=None,\n",
       "                   max_iter=140, multi_class='auto', n_jobs=None, penalty='l2',\n",
       "                   random_state=5, solver='lbfgs', tol=0.0001, verbose=0,\n",
       "                   warm_start=False)"
      ]
     },
     "execution_count": 36,
     "metadata": {},
     "output_type": "execute_result"
    }
   ],
   "source": [
    "grid_search.best_estimator_"
   ]
  },
  {
   "cell_type": "code",
   "execution_count": 37,
   "metadata": {},
   "outputs": [
    {
     "data": {
      "text/plain": [
       "{'mean_fit_time': array([ 2.42501678,  2.39910145,  1.38195872,  0.69666715,  0.6878078 ,\n",
       "        21.55131631, 22.98424788, 24.71438947, 26.72245636, 25.38598337,\n",
       "         1.87476459,  1.06206074,  0.89632664,  0.81297584,  0.76201243,\n",
       "        20.21713066, 21.68562355, 22.71631851, 23.09105458, 20.45520978,\n",
       "         1.94356451,  1.26132193,  1.02560463,  0.95041313,  0.92613726,\n",
       "        20.97500591, 22.29661164, 23.71980295, 24.76792064, 20.50431232,\n",
       "         2.15832195,  1.29645987,  1.08808074,  0.93068333,  0.8577754 ,\n",
       "        20.18643909, 22.02325315, 23.30978179, 24.41244411, 20.75534463]),\n",
       " 'std_fit_time': array([0.10303809, 0.05360634, 0.80607727, 0.04388497, 0.05840529,\n",
       "        0.32266278, 0.29356357, 0.56586446, 0.57319061, 3.16605216,\n",
       "        0.26003092, 0.09942379, 0.0512189 , 0.02603588, 0.01701174,\n",
       "        0.51434553, 0.63208785, 1.99925228, 1.79167306, 4.47890704,\n",
       "        0.42992614, 0.19802588, 0.02728859, 0.01331069, 0.02115144,\n",
       "        0.31411412, 0.33841328, 1.63053873, 1.52413275, 5.37405468,\n",
       "        0.63603359, 0.03678217, 0.06194474, 0.03919624, 0.02144099,\n",
       "        0.85951663, 1.10909557, 2.34294494, 2.23983622, 5.09870095]),\n",
       " 'mean_score_time': array([0.        , 0.        , 0.        , 0.        , 0.        ,\n",
       "        0.06821866, 0.03049603, 0.06978416, 0.04869738, 0.03793707,\n",
       "        0.        , 0.        , 0.        , 0.        , 0.        ,\n",
       "        0.06174455, 0.04344878, 0.07043781, 0.0470418 , 0.05572319,\n",
       "        0.        , 0.        , 0.        , 0.        , 0.        ,\n",
       "        0.06524181, 0.03521681, 0.07954936, 0.0494545 , 0.04427109,\n",
       "        0.        , 0.        , 0.        , 0.        , 0.        ,\n",
       "        0.05766277, 0.05787263, 0.08005214, 0.06027198, 0.02242541]),\n",
       " 'std_score_time': array([0.        , 0.        , 0.        , 0.        , 0.        ,\n",
       "        0.00746299, 0.00421166, 0.02058949, 0.01138273, 0.02067219,\n",
       "        0.        , 0.        , 0.        , 0.        , 0.        ,\n",
       "        0.01174242, 0.0091424 , 0.00878726, 0.01696983, 0.03284991,\n",
       "        0.        , 0.        , 0.        , 0.        , 0.        ,\n",
       "        0.00789681, 0.01021356, 0.00712267, 0.01179732, 0.02539224,\n",
       "        0.        , 0.        , 0.        , 0.        , 0.        ,\n",
       "        0.01308965, 0.00485026, 0.00218437, 0.01332006, 0.01123529]),\n",
       " 'param_C': masked_array(data=[1.0, 1.0, 1.0, 1.0, 1.0, 1.0, 1.0, 1.0, 1.0, 1.0, 1.5,\n",
       "                    1.5, 1.5, 1.5, 1.5, 1.5, 1.5, 1.5, 1.5, 1.5, 2.0, 2.0,\n",
       "                    2.0, 2.0, 2.0, 2.0, 2.0, 2.0, 2.0, 2.0, 2.5, 2.5, 2.5,\n",
       "                    2.5, 2.5, 2.5, 2.5, 2.5, 2.5, 2.5],\n",
       "              mask=[False, False, False, False, False, False, False, False,\n",
       "                    False, False, False, False, False, False, False, False,\n",
       "                    False, False, False, False, False, False, False, False,\n",
       "                    False, False, False, False, False, False, False, False,\n",
       "                    False, False, False, False, False, False, False, False],\n",
       "        fill_value='?',\n",
       "             dtype=object),\n",
       " 'param_dual': masked_array(data=[True, True, True, True, True, False, False, False,\n",
       "                    False, False, True, True, True, True, True, False,\n",
       "                    False, False, False, False, True, True, True, True,\n",
       "                    True, False, False, False, False, False, True, True,\n",
       "                    True, True, True, False, False, False, False, False],\n",
       "              mask=[False, False, False, False, False, False, False, False,\n",
       "                    False, False, False, False, False, False, False, False,\n",
       "                    False, False, False, False, False, False, False, False,\n",
       "                    False, False, False, False, False, False, False, False,\n",
       "                    False, False, False, False, False, False, False, False],\n",
       "        fill_value='?',\n",
       "             dtype=object),\n",
       " 'param_max_iter': masked_array(data=[100, 110, 120, 130, 140, 100, 110, 120, 130, 140, 100,\n",
       "                    110, 120, 130, 140, 100, 110, 120, 130, 140, 100, 110,\n",
       "                    120, 130, 140, 100, 110, 120, 130, 140, 100, 110, 120,\n",
       "                    130, 140, 100, 110, 120, 130, 140],\n",
       "              mask=[False, False, False, False, False, False, False, False,\n",
       "                    False, False, False, False, False, False, False, False,\n",
       "                    False, False, False, False, False, False, False, False,\n",
       "                    False, False, False, False, False, False, False, False,\n",
       "                    False, False, False, False, False, False, False, False],\n",
       "        fill_value='?',\n",
       "             dtype=object),\n",
       " 'params': [{'C': 1.0, 'dual': True, 'max_iter': 100},\n",
       "  {'C': 1.0, 'dual': True, 'max_iter': 110},\n",
       "  {'C': 1.0, 'dual': True, 'max_iter': 120},\n",
       "  {'C': 1.0, 'dual': True, 'max_iter': 130},\n",
       "  {'C': 1.0, 'dual': True, 'max_iter': 140},\n",
       "  {'C': 1.0, 'dual': False, 'max_iter': 100},\n",
       "  {'C': 1.0, 'dual': False, 'max_iter': 110},\n",
       "  {'C': 1.0, 'dual': False, 'max_iter': 120},\n",
       "  {'C': 1.0, 'dual': False, 'max_iter': 130},\n",
       "  {'C': 1.0, 'dual': False, 'max_iter': 140},\n",
       "  {'C': 1.5, 'dual': True, 'max_iter': 100},\n",
       "  {'C': 1.5, 'dual': True, 'max_iter': 110},\n",
       "  {'C': 1.5, 'dual': True, 'max_iter': 120},\n",
       "  {'C': 1.5, 'dual': True, 'max_iter': 130},\n",
       "  {'C': 1.5, 'dual': True, 'max_iter': 140},\n",
       "  {'C': 1.5, 'dual': False, 'max_iter': 100},\n",
       "  {'C': 1.5, 'dual': False, 'max_iter': 110},\n",
       "  {'C': 1.5, 'dual': False, 'max_iter': 120},\n",
       "  {'C': 1.5, 'dual': False, 'max_iter': 130},\n",
       "  {'C': 1.5, 'dual': False, 'max_iter': 140},\n",
       "  {'C': 2.0, 'dual': True, 'max_iter': 100},\n",
       "  {'C': 2.0, 'dual': True, 'max_iter': 110},\n",
       "  {'C': 2.0, 'dual': True, 'max_iter': 120},\n",
       "  {'C': 2.0, 'dual': True, 'max_iter': 130},\n",
       "  {'C': 2.0, 'dual': True, 'max_iter': 140},\n",
       "  {'C': 2.0, 'dual': False, 'max_iter': 100},\n",
       "  {'C': 2.0, 'dual': False, 'max_iter': 110},\n",
       "  {'C': 2.0, 'dual': False, 'max_iter': 120},\n",
       "  {'C': 2.0, 'dual': False, 'max_iter': 130},\n",
       "  {'C': 2.0, 'dual': False, 'max_iter': 140},\n",
       "  {'C': 2.5, 'dual': True, 'max_iter': 100},\n",
       "  {'C': 2.5, 'dual': True, 'max_iter': 110},\n",
       "  {'C': 2.5, 'dual': True, 'max_iter': 120},\n",
       "  {'C': 2.5, 'dual': True, 'max_iter': 130},\n",
       "  {'C': 2.5, 'dual': True, 'max_iter': 140},\n",
       "  {'C': 2.5, 'dual': False, 'max_iter': 100},\n",
       "  {'C': 2.5, 'dual': False, 'max_iter': 110},\n",
       "  {'C': 2.5, 'dual': False, 'max_iter': 120},\n",
       "  {'C': 2.5, 'dual': False, 'max_iter': 130},\n",
       "  {'C': 2.5, 'dual': False, 'max_iter': 140}],\n",
       " 'split0_test_score': array([       nan,        nan,        nan,        nan,        nan,\n",
       "        0.05485449, 0.05485449, 0.05486862, 0.05484037, 0.05486862,\n",
       "               nan,        nan,        nan,        nan,        nan,\n",
       "        0.05488276, 0.05491106, 0.05491106, 0.05491106, 0.05491106,\n",
       "               nan,        nan,        nan,        nan,        nan,\n",
       "        0.05485449, 0.05485449, 0.05489691, 0.05489691, 0.05491106,\n",
       "               nan,        nan,        nan,        nan,        nan,\n",
       "        0.05491106, 0.05492522, 0.05492522, 0.05491106, 0.05492522]),\n",
       " 'split1_test_score': array([       nan,        nan,        nan,        nan,        nan,\n",
       "        0.05286006, 0.05286006, 0.05284657, 0.05286006, 0.05286006,\n",
       "               nan,        nan,        nan,        nan,        nan,\n",
       "        0.05284657, 0.05287356, 0.05284657, 0.05287356, 0.05287356,\n",
       "               nan,        nan,        nan,        nan,        nan,\n",
       "        0.05288707, 0.05287356, 0.05287356, 0.05286006, 0.05286006,\n",
       "               nan,        nan,        nan,        nan,        nan,\n",
       "        0.05286006, 0.05287356, 0.05287356, 0.05286006, 0.05287356]),\n",
       " 'split2_test_score': array([       nan,        nan,        nan,        nan,        nan,\n",
       "        0.05333333, 0.05331966, 0.0533607 , 0.0533607 , 0.0533607 ,\n",
       "               nan,        nan,        nan,        nan,        nan,\n",
       "        0.0533607 , 0.0533607 , 0.0533607 , 0.0533607 , 0.0533607 ,\n",
       "               nan,        nan,        nan,        nan,        nan,\n",
       "        0.0533607 , 0.0533607 , 0.0533607 , 0.0533607 , 0.0533607 ,\n",
       "               nan,        nan,        nan,        nan,        nan,\n",
       "        0.05337439, 0.05337439, 0.05337439, 0.05337439, 0.05337439]),\n",
       " 'split3_test_score': array([       nan,        nan,        nan,        nan,        nan,\n",
       "        0.05175506, 0.05175506, 0.05176832, 0.05176832, 0.05176832,\n",
       "               nan,        nan,        nan,        nan,        nan,\n",
       "        0.05176832, 0.05176832, 0.05176832, 0.05178159, 0.05179487,\n",
       "               nan,        nan,        nan,        nan,        nan,\n",
       "        0.05176832, 0.05176832, 0.05176832, 0.05176832, 0.05176832,\n",
       "               nan,        nan,        nan,        nan,        nan,\n",
       "        0.05176832, 0.05176832, 0.05176832, 0.05176832, 0.05176832]),\n",
       " 'split4_test_score': array([       nan,        nan,        nan,        nan,        nan,\n",
       "        0.05630165, 0.0563162 , 0.0563162 , 0.0563162 , 0.0563162 ,\n",
       "               nan,        nan,        nan,        nan,        nan,\n",
       "        0.0563162 , 0.0563162 , 0.0563162 , 0.0563162 , 0.0563162 ,\n",
       "               nan,        nan,        nan,        nan,        nan,\n",
       "        0.05625806, 0.05630165, 0.05630165, 0.05630165, 0.05630165,\n",
       "               nan,        nan,        nan,        nan,        nan,\n",
       "        0.05628712, 0.05628712, 0.05630165, 0.05630165, 0.05630165]),\n",
       " 'mean_test_score': array([       nan,        nan,        nan,        nan,        nan,\n",
       "        0.05382092, 0.05382109, 0.05383208, 0.05382913, 0.05383478,\n",
       "               nan,        nan,        nan,        nan,        nan,\n",
       "        0.05383491, 0.05384597, 0.05384057, 0.05384862, 0.05385128,\n",
       "               nan,        nan,        nan,        nan,        nan,\n",
       "        0.05382573, 0.05383175, 0.05384023, 0.05383753, 0.05384036,\n",
       "               nan,        nan,        nan,        nan,        nan,\n",
       "        0.05384019, 0.05384572, 0.05384863, 0.0538431 , 0.05384863]),\n",
       " 'std_test_score': array([       nan,        nan,        nan,        nan,        nan,\n",
       "        0.00159067, 0.00159606, 0.0015936 , 0.0015883 , 0.00159194,\n",
       "               nan,        nan,        nan,        nan,        nan,\n",
       "        0.00159545, 0.00159588, 0.0015992 , 0.00159243, 0.00158898,\n",
       "               nan,        nan,        nan,        nan,        nan,\n",
       "        0.00156875, 0.00158393, 0.00158949, 0.00159114, 0.00159303,\n",
       "               nan,        nan,        nan,        nan,        nan,\n",
       "        0.00158773, 0.00158799, 0.00159246, 0.00159222, 0.00159246]),\n",
       " 'rank_test_score': array([40, 25, 31, 22, 38, 20, 19, 15, 17, 14, 37, 36, 35, 34, 33, 13,  5,\n",
       "         8,  4,  1, 32, 28, 30, 29, 39, 18, 16, 10, 12,  9, 21, 26, 27, 23,\n",
       "        24, 11,  6,  2,  7,  2], dtype=int32)}"
      ]
     },
     "execution_count": 37,
     "metadata": {},
     "output_type": "execute_result"
    }
   ],
   "source": [
    "grid_search.cv_results_"
   ]
  },
  {
   "cell_type": "markdown",
   "metadata": {},
   "source": [
    "# 4)-predict_proba"
   ]
  },
  {
   "cell_type": "code",
   "execution_count": 38,
   "metadata": {},
   "outputs": [
    {
     "data": {
      "text/plain": [
       "array([[0.47582436, 0.52417564],\n",
       "       [0.7366389 , 0.2633611 ],\n",
       "       [0.42185331, 0.57814669],\n",
       "       [0.62896714, 0.37103286],\n",
       "       [0.63085819, 0.36914181],\n",
       "       [0.28081807, 0.71918193],\n",
       "       [0.33328292, 0.66671708],\n",
       "       [0.38498986, 0.61501014],\n",
       "       [0.4870752 , 0.5129248 ],\n",
       "       [0.59663543, 0.40336457]])"
      ]
     },
     "execution_count": 38,
     "metadata": {},
     "output_type": "execute_result"
    }
   ],
   "source": [
    "grid_search.predict_proba(X_test)[0:10, :]"
   ]
  },
  {
   "cell_type": "code",
   "execution_count": 39,
   "metadata": {},
   "outputs": [
    {
     "name": "stdout",
     "output_type": "stream",
     "text": [
      "[0.47582436 0.7366389  0.42185331 0.62896714 0.63085819]\n"
     ]
    }
   ],
   "source": [
    "pred_prob_zero = grid_search.predict_proba(X_test)[:, 0]\n",
    "print(pred_prob_zero[:5])"
   ]
  },
  {
   "cell_type": "code",
   "execution_count": 40,
   "metadata": {},
   "outputs": [
    {
     "data": {
      "text/plain": [
       "Text(0, 0.5, 'Frequency')"
      ]
     },
     "execution_count": 40,
     "metadata": {},
     "output_type": "execute_result"
    },
    {
     "data": {
      "image/png": "[encoded data removed]",
      "text/plain": [
       "<Figure size 432x288 with 1 Axes>"
      ]
     },
     "metadata": {
      "needs_background": "light"
     },
     "output_type": "display_data"
    }
   ],
   "source": [
    "# histogram of predicted probabilities for search activities\n",
    "plt.hist(pred_prob_zero, bins=8)\n",
    "plt.xlim(0, 1)\n",
    "plt.title('Histogram of predicted probabilities')\n",
    "plt.xlabel('Predicted probability for searching activities')\n",
    "plt.ylabel('Frequency')"
   ]
  },
  {
   "cell_type": "code",
   "execution_count": 41,
   "metadata": {},
   "outputs": [
    {
     "name": "stdout",
     "output_type": "stream",
     "text": [
      "[0.52417564 0.2633611  0.57814669 0.37103286 0.36914181]\n"
     ]
    }
   ],
   "source": [
    "pred_prob_cl_one = grid_search.predict_proba(X_test)[:, 1]\n",
    "print(pred_prob_cl_one[:5])"
   ]
  },
  {
   "cell_type": "code",
   "execution_count": 42,
   "metadata": {},
   "outputs": [
    {
     "data": {
      "text/plain": [
       "Text(0, 0.5, 'Frequency')"
      ]
     },
     "execution_count": 42,
     "metadata": {},
     "output_type": "execute_result"
    },
    {
     "data": {
      "image/png": "[encoded data removed]",
      "text/plain": [
       "<Figure size 432x288 with 1 Axes>"
      ]
     },
     "metadata": {
      "needs_background": "light"
     },
     "output_type": "display_data"
    }
   ],
   "source": [
    "# histogram of predicted probabilities for churned customers\n",
    "plt.hist(pred_prob_cl_one, bins=8)\n",
    "plt.xlim(0, 1)\n",
    "plt.title('Histogram of predicted probabilities')\n",
    "plt.xlabel('Predicted probability for booking activities among customers')\n",
    "plt.ylabel('Frequency')"
   ]
  },
  {
   "cell_type": "markdown",
   "metadata": {},
   "source": [
    "These are the probabilities that for booking and search acitivities among customers."
   ]
  },
  {
   "cell_type": "markdown",
   "metadata": {},
   "source": [
    "# 5)-ROC & AUC"
   ]
  },
  {
   "cell_type": "code",
   "execution_count": 43,
   "metadata": {},
   "outputs": [],
   "source": [
    "from sklearn.metrics import roc_curve\n",
    "roc_score=roc_curve(y_test, pred_prob_cl_one)"
   ]
  },
  {
   "cell_type": "code",
   "execution_count": 44,
   "metadata": {},
   "outputs": [
    {
     "data": {
      "image/png": "[encoded data removed]",
      "text/plain": [
       "<Figure size 720x576 with 1 Axes>"
      ]
     },
     "metadata": {
      "needs_background": "light"
     },
     "output_type": "display_data"
    }
   ],
   "source": [
    "from sklearn.metrics import roc_curve\n",
    "fpr, tpr, thres = roc_curve(y_test, pred_prob_cl_one)\n",
    "\n",
    "\n",
    "def _plot_roc_curve(fpr, tpr, thres):\n",
    "    roc = plt.figure(figsize = (10, 8))\n",
    "    plt.plot(fpr, tpr, 'b-', label = 'ROC')\n",
    "    plt.plot([0, 1], [0, 1], '--')\n",
    "    plt.axis([0, 1, 0, 1])\n",
    "    plt.xlabel('False Positive Rate(1 - Specificity)')\n",
    "    plt.ylabel('True Positive Rate(Sensitivity)')\n",
    "    plt.title('ROC Curve')\n",
    "    return roc\n",
    "p1 = _plot_roc_curve(fpr, tpr, thres)"
   ]
  },
  {
   "cell_type": "code",
   "execution_count": 45,
   "metadata": {},
   "outputs": [
    {
     "data": {
      "text/plain": [
       "0.692778276173903"
      ]
     },
     "execution_count": 45,
     "metadata": {},
     "output_type": "execute_result"
    }
   ],
   "source": [
    "from sklearn.metrics import auc\n",
    "auc(fpr, tpr)"
   ]
  },
  {
   "cell_type": "code",
   "execution_count": 46,
   "metadata": {},
   "outputs": [
    {
     "data": {
      "image/png": "[encoded data removed]",
      "text/plain": [
       "<Figure size 720x576 with 1 Axes>"
      ]
     },
     "metadata": {
      "needs_background": "light"
     },
     "output_type": "display_data"
    }
   ],
   "source": [
    "from sklearn.metrics import roc_curve, precision_recall_curve\n",
    "prec, rec, thres = precision_recall_curve(y_test, pred_prob_cl_one)\n",
    "\n",
    "def _plot_prec_rec_curve(prec, rec, thres):\n",
    "    plot_pr = plt.figure(figsize = (10, 8))\n",
    "    plt.plot(thres, prec[:-1], 'b--', label = 'Precision')\n",
    "    plt.plot(thres, rec[:-1], 'g-', label = 'Recall')\n",
    "    plt.xlabel('Threshold')\n",
    "    plt.ylabel('Probability')\n",
    "    plt.title('Precsion vs Recall Curve')\n",
    "    plt.legend()\n",
    "    #return plot_pr(it creates duplicate graph)\n",
    "\n",
    "_plot_prec_rec_curve(prec, rec, thres)"
   ]
  },
  {
   "cell_type": "markdown",
   "metadata": {},
   "source": [
    "Our threshold is almost at 0.5. If we go to lower values we can get better recall values. Higher values will improve precision but, recall will go very low. Model is still not giving best of result. But, this is better tha what we got"
   ]
  },
  {
   "cell_type": "markdown",
   "metadata": {},
   "source": [
    "**END OF NOTEBOOK**"
   ]
  }
 ],
 "metadata": {
  "accelerator": "GPU",
  "colab": {
   "collapsed_sections": [],
   "name": "3.Model.ipynb",
   "provenance": []
  },
  "kernelspec": {
   "display_name": "Python 3.7 (tensorflow)",
   "language": "python",
   "name": "tensorflow"
  },
  "language_info": {
   "codemirror_mode": {
    "name": "ipython",
    "version": 3
   },
   "file_extension": ".py",
   "mimetype": "text/x-python",
   "name": "python",
   "nbconvert_exporter": "python",
   "pygments_lexer": "ipython3",
   "version": "3.7.5"
  }
 },
 "nbformat": 4,
 "nbformat_minor": 1
}
